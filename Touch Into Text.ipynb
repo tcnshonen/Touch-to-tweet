{
 "cells": [
  {
   "cell_type": "markdown",
   "metadata": {},
   "source": [
    "# Synthetic Data"
   ]
  },
  {
   "cell_type": "code",
   "execution_count": 1,
   "metadata": {},
   "outputs": [
    {
     "name": "stdout",
     "output_type": "stream",
     "text": [
      "Populating the interactive namespace from numpy and matplotlib\n"
     ]
    },
    {
     "name": "stderr",
     "output_type": "stream",
     "text": [
      "Using TensorFlow backend.\n"
     ]
    }
   ],
   "source": [
    "%pylab inline\n",
    "import random\n",
    "import json\n",
    "\n",
    "from keras.layers import Conv1D, Flatten, Dense, Input, MaxPooling1D, UpSampling1D, Reshape, Dropout, Embedding\n",
    "from keras.models import Model"
   ]
  },
  {
   "cell_type": "code",
   "execution_count": 2,
   "metadata": {
    "collapsed": true
   },
   "outputs": [],
   "source": [
    "json_dir = r'../../Touch Into Text/JSON/'\n",
    "json_filename = ['Gently_Punching.JSON', 'Firmly_Punching.JSON', 'Hard_Punching.JSON',\n",
    "                 'Slow_Stroking.JSON', 'Moderate_Stroking.JSON', 'Rapidly_Stroking.JSON',\n",
    "                 'Gently_Squeezing.JSON', 'Firmly_Squeezing.JSON', 'Hard_Squeezing.JSON']\n",
    "score_num = 59\n",
    "\n",
    "\n",
    "LIWC_score = np.zeros((len(json_filename), score_num))\n",
    "\n",
    "for i in range(len(json_filename)):\n",
    "    with open(json_dir + json_filename[i]) as json_data:\n",
    "        temp = json.load(json_data)['receptiviti_scores']['percentiles']\n",
    "        index = 0\n",
    "        for j in temp:\n",
    "            LIWC_score[i][index] = temp[j]\n",
    "            index += 1"
   ]
  },
  {
   "cell_type": "code",
   "execution_count": 3,
   "metadata": {
    "collapsed": true
   },
   "outputs": [],
   "source": [
    "PUNCHING = 1\n",
    "STROKING = 2\n",
    "SQUEEZING = 3\n",
    "ROLLING = 4\n",
    "\n",
    "total_time = 400\n",
    "\n",
    "def Make_Data(t):\n",
    "    x = np.zeros((total_time, 6))\n",
    "    y = np.zeros(score_num)\n",
    "    if t == PUNCHING:\n",
    "        punched = random.randrange(6)\n",
    "        temp = random.randrange(200)\n",
    "        for sensor in range(6):\n",
    "            if sensor != punched:\n",
    "                for time in range(total_time):\n",
    "                    x[time][sensor] = temp\n",
    "                    \n",
    "        r = random.randint(10, 25)\n",
    "        if r <= 15:\n",
    "            y = LIWC_score[0]\n",
    "        elif r <= 20:\n",
    "            y = LIWC_score[1]\n",
    "        else:\n",
    "            y = LIWC_score[2]\n",
    "        \n",
    "        punched_time = random.randrange(300)\n",
    "        for time in range(total_time):\n",
    "            x[time][punched] = 0\n",
    "        for time in range(punched_time, punched_time + 50):\n",
    "            x[time][punched] = x[time-1][punched] + r\n",
    "        for i in range(punched_time + 50, punched_time + 100):\n",
    "            x[time][punched] = x[time-1][punched] - r\n",
    "            \n",
    "    elif t == STROKING:\n",
    "        stroked = random.randrange(6)\n",
    "        touched = stroked - 2 if stroked > 3 else stroked + 2\n",
    "        r = random.randrange(250)\n",
    "        \n",
    "        stroked_time = random.randint(10, 70)\n",
    "        stop_time = random.randint(20, 40)\n",
    "        if stroked_time <= 30:\n",
    "            y = LIWC_score[3]\n",
    "        elif stroked_time <= 50:\n",
    "            y = LIWC_score[4]\n",
    "        else:\n",
    "            y = LIWC_score[5]\n",
    "        \n",
    "        t1 = stroked_time\n",
    "        t2 = stop_time\n",
    "        for time in range(total_time):\n",
    "            x[time][touched] = 100\n",
    "            if t2 != 0:\n",
    "                t2 -= 1\n",
    "            elif t1 != 0:\n",
    "                t1 -= 1\n",
    "                x[time][stroked] = r\n",
    "            else:\n",
    "                t1 = stroked_time\n",
    "                t2 = stop_time\n",
    "                \n",
    "    elif t == SQUEEZING:\n",
    "        not_squeezed = random.randrange(6)\n",
    "        r = random.randint(10, 25) \n",
    "        if r <= 15:\n",
    "            y = LIWC_score[6]\n",
    "        elif r <= 20:\n",
    "            y = LIWC_score[7]\n",
    "        else:\n",
    "            y = LIWC_score[8]\n",
    "        \n",
    "        squeezed_time = random.randint(20, 40)\n",
    "        stop_time = random.randint(20, 40)\n",
    "        t1 = squeezed_time\n",
    "        t2 = stop_time\n",
    "        t3 = squeezed_time\n",
    "        for time in range(total_time):\n",
    "            if t2 != 0:\n",
    "                t2 -= 1\n",
    "            elif t1 != 0:\n",
    "                t1 -= 1\n",
    "                for sensor in range(6):\n",
    "                    if sensor != not_squeezed:\n",
    "                        x[time][sensor] = x[time-1][sensor] + r\n",
    "            elif t3 != 0:\n",
    "                t3 -= 1\n",
    "                for sensor in range(6):\n",
    "                    if sensor != not_squeezed:\n",
    "                        x[time][sensor] = x[time-1][sensor] - r\n",
    "            else:\n",
    "                t1 = squeezed_time\n",
    "                t2 = stop_time\n",
    "                t3 = squeezed_time\n",
    "\n",
    "    return x / 1030., y / 100."
   ]
  },
  {
   "cell_type": "code",
   "execution_count": 5,
   "metadata": {},
   "outputs": [
    {
     "name": "stdout",
     "output_type": "stream",
     "text": [
      "[ 0.99        0.01        0.52245412  0.13862848  0.0568701   0.01951434\n",
      "  0.0510891   0.79422372  0.99        0.05402761  0.06690332  0.07661664\n",
      "  0.01886553  0.01        0.99        0.04974297  0.18861638  0.01083741\n",
      "  0.99        0.04399916  0.13477355  0.94817578  0.17741887  0.99\n",
      "  0.67308034  0.21788312  0.9482281   0.99        0.76632757  0.05498433\n",
      "  0.77210283  0.01        0.99        0.04506899  0.08904561  0.99\n",
      "  0.18815041  0.94262601  0.01        0.01        0.03604316  0.08920225\n",
      "  0.77934992  0.85168843  0.83072509  0.99        0.99        0.2742185\n",
      "  0.94980646  0.78831345  0.99        0.99        0.13072529  0.04220181\n",
      "  0.07434859  0.95286118  0.2535148   0.15008893  0.66694265]\n",
      "[[ 0.  0.  0.  0.  0.  0.]\n",
      " [ 0.  0.  0.  0.  0.  0.]\n",
      " [ 0.  0.  0.  0.  0.  0.]\n",
      " ..., \n",
      " [ 0.  0.  0.  0.  0.  0.]\n",
      " [ 0.  0.  0.  0.  0.  0.]\n",
      " [ 0.  0.  0.  0.  0.  0.]]\n"
     ]
    },
    {
     "data": {
      "image/png": "[encoded data removed]",
      "text/plain": [
       "<matplotlib.figure.Figure at 0x1a80884c2b0>"
      ]
     },
     "metadata": {},
     "output_type": "display_data"
    }
   ],
   "source": [
    "x_example, y_example = Make_Data(SQUEEZING)\n",
    "print(y_example)\n",
    "print(x_example)\n",
    "plt.plot(x_example[:, :5]);"
   ]
  },
  {
   "cell_type": "code",
   "execution_count": 6,
   "metadata": {},
   "outputs": [
    {
     "name": "stdout",
     "output_type": "stream",
     "text": [
      "Wall time: 1min 21s\n"
     ]
    }
   ],
   "source": [
    "%%time\n",
    "\n",
    "x_train = np.zeros((100000, 400, 6))\n",
    "y_train = np.zeros((100000, score_num))\n",
    "x_test = np.zeros((10000, 400, 6))\n",
    "y_test = np.zeros((10000, score_num))\n",
    "for i in range(100000):\n",
    "    x_train[i], y_train[i] = Make_Data(random.randint(1, 3))\n",
    "    if i < 10000:\n",
    "        x_test[i], y_test[i] = Make_Data(random.randint(1, 3))"
   ]
  },
  {
   "cell_type": "markdown",
   "metadata": {},
   "source": [
    "# Autoencoder"
   ]
  },
  {
   "cell_type": "code",
   "execution_count": 30,
   "metadata": {},
   "outputs": [
    {
     "name": "stdout",
     "output_type": "stream",
     "text": [
      "_________________________________________________________________\n",
      "Layer (type)                 Output Shape              Param #   \n",
      "=================================================================\n",
      "input_21 (InputLayer)        (None, 400, 6)            0         \n",
      "_________________________________________________________________\n",
      "conv1d_74 (Conv1D)           (None, 400, 16)           304       \n",
      "_________________________________________________________________\n",
      "max_pooling1d_49 (MaxPooling (None, 200, 16)           0         \n",
      "_________________________________________________________________\n",
      "conv1d_75 (Conv1D)           (None, 200, 32)           1568      \n",
      "_________________________________________________________________\n",
      "max_pooling1d_50 (MaxPooling (None, 100, 32)           0         \n",
      "_________________________________________________________________\n",
      "conv1d_76 (Conv1D)           (None, 100, 32)           3104      \n",
      "_________________________________________________________________\n",
      "max_pooling1d_51 (MaxPooling (None, 50, 32)            0         \n",
      "_________________________________________________________________\n",
      "flatten_14 (Flatten)         (None, 1600)              0         \n",
      "_________________________________________________________________\n",
      "dense_25 (Dense)             (None, 29)                46429     \n",
      "_________________________________________________________________\n",
      "dense_26 (Dense)             (None, 1600)              48000     \n",
      "_________________________________________________________________\n",
      "reshape_13 (Reshape)         (None, 50, 32)            0         \n",
      "_________________________________________________________________\n",
      "conv1d_77 (Conv1D)           (None, 50, 32)            3104      \n",
      "_________________________________________________________________\n",
      "up_sampling1d_22 (UpSampling (None, 100, 32)           0         \n",
      "_________________________________________________________________\n",
      "conv1d_78 (Conv1D)           (None, 100, 32)           3104      \n",
      "_________________________________________________________________\n",
      "up_sampling1d_23 (UpSampling (None, 200, 32)           0         \n",
      "_________________________________________________________________\n",
      "conv1d_79 (Conv1D)           (None, 200, 16)           1552      \n",
      "_________________________________________________________________\n",
      "up_sampling1d_24 (UpSampling (None, 400, 16)           0         \n",
      "_________________________________________________________________\n",
      "conv1d_80 (Conv1D)           (None, 400, 6)            294       \n",
      "=================================================================\n",
      "Total params: 107,459\n",
      "Trainable params: 107,459\n",
      "Non-trainable params: 0\n",
      "_________________________________________________________________\n"
     ]
    }
   ],
   "source": [
    "auto_input = Input(shape=(400, 6))\n",
    "x = Conv1D(16,3,activation='relu',padding='same')(auto_input)\n",
    "x = MaxPooling1D(2)(x)\n",
    "x = Conv1D(32,3,activation='relu',padding='same')(x)\n",
    "x = MaxPooling1D(2)(x)\n",
    "x = Conv1D(32,3,activation='relu',padding='same')(x)\n",
    "x = MaxPooling1D(2)(x)\n",
    "x = Flatten()(x)\n",
    "\n",
    "x = Dense(29,activation='relu')(x)\n",
    "embedded = x\n",
    "\n",
    "x = Dense(1600,activation='relu')(x)\n",
    "x = Reshape((50,32))(x)\n",
    "x = Conv1D(32,3,activation='relu',padding='same')(x)\n",
    "x = UpSampling1D(2)(x)\n",
    "x = Conv1D(32,3,activation='relu',padding='same')(x)\n",
    "x = UpSampling1D(2)(x)\n",
    "x = Conv1D(16,3,activation='relu',padding='same')(x)\n",
    "x = UpSampling1D(2)(x)\n",
    "x = Conv1D(6,3,padding='same')(x)\n",
    "\n",
    "auto = Model(auto_input, x)\n",
    "auto.compile(optimizer='adam', loss='mse')\n",
    "auto.summary()"
   ]
  },
  {
   "cell_type": "code",
   "execution_count": 31,
   "metadata": {},
   "outputs": [
    {
     "name": "stdout",
     "output_type": "stream",
     "text": [
      "Train on 100000 samples, validate on 10000 samples\n",
      "Epoch 1/3\n",
      "100000/100000 [==============================] - 153s - loss: 0.0021 - val_loss: 3.4785e-04\n",
      "Epoch 2/3\n",
      "100000/100000 [==============================] - 152s - loss: 3.1255e-04 - val_loss: 2.1800e-04\n",
      "Epoch 3/3\n",
      "100000/100000 [==============================] - 152s - loss: 2.0471e-04 - val_loss: 1.6100e-04\n"
     ]
    },
    {
     "data": {
      "text/plain": [
       "<keras.callbacks.History at 0x18e347d3f60>"
      ]
     },
     "execution_count": 31,
     "metadata": {},
     "output_type": "execute_result"
    }
   ],
   "source": [
    "auto.fit(x_train, x_train,\n",
    "        epochs=3,\n",
    "        batch_size=16,\n",
    "        shuffle=True,\n",
    "        validation_data=(x_test, x_test),\n",
    "        )"
   ]
  },
  {
   "cell_type": "code",
   "execution_count": 34,
   "metadata": {},
   "outputs": [
    {
     "name": "stdout",
     "output_type": "stream",
     "text": [
      " 9984/10000 [============================>.] - ETA: 0s"
     ]
    }
   ],
   "source": [
    "x_predict = auto.predict(x_test, verbose=1)"
   ]
  },
  {
   "cell_type": "code",
   "execution_count": 42,
   "metadata": {},
   "outputs": [
    {
     "data": {
      "image/png": "[encoded data removed]",
      "text/plain": [
       "<matplotlib.figure.Figure at 0x18e367110b8>"
      ]
     },
     "metadata": {},
     "output_type": "display_data"
    },
    {
     "data": {
      "image/png": "[encoded data removed]",
      "text/plain": [
       "<matplotlib.figure.Figure at 0x18e365c5518>"
      ]
     },
     "metadata": {},
     "output_type": "display_data"
    }
   ],
   "source": [
    "i = 20\n",
    "plt.plot(x_test[i]);\n",
    "figure()\n",
    "plt.plot(x_predict[i]);"
   ]
  },
  {
   "cell_type": "code",
   "execution_count": 43,
   "metadata": {},
   "outputs": [
    {
     "name": "stdout",
     "output_type": "stream",
     "text": [
      " 99968/100000 [============================>.] - ETA: 0s"
     ]
    }
   ],
   "source": [
    "auto_embedded = Model(auto.input, embedded)\n",
    "x_embedding = auto_embedded.predict(x_train, verbose=1)"
   ]
  },
  {
   "cell_type": "markdown",
   "metadata": {},
   "source": [
    "# Learning Model"
   ]
  },
  {
   "cell_type": "code",
   "execution_count": 8,
   "metadata": {},
   "outputs": [
    {
     "name": "stdout",
     "output_type": "stream",
     "text": [
      "_________________________________________________________________\n",
      "Layer (type)                 Output Shape              Param #   \n",
      "=================================================================\n",
      "input_2 (InputLayer)         (None, 400, 6)            0         \n",
      "_________________________________________________________________\n",
      "conv1d_3 (Conv1D)            (None, 400, 24)           456       \n",
      "_________________________________________________________________\n",
      "max_pooling1d_3 (MaxPooling1 (None, 100, 24)           0         \n",
      "_________________________________________________________________\n",
      "conv1d_4 (Conv1D)            (None, 100, 96)           7008      \n",
      "_________________________________________________________________\n",
      "max_pooling1d_4 (MaxPooling1 (None, 25, 96)            0         \n",
      "_________________________________________________________________\n",
      "flatten_2 (Flatten)          (None, 2400)              0         \n",
      "_________________________________________________________________\n",
      "dense_5 (Dense)              (None, 1200)              2881200   \n",
      "_________________________________________________________________\n",
      "dense_6 (Dense)              (None, 400)               480400    \n",
      "_________________________________________________________________\n",
      "dense_7 (Dense)              (None, 100)               40100     \n",
      "_________________________________________________________________\n",
      "dense_8 (Dense)              (None, 59)                5959      \n",
      "=================================================================\n",
      "Total params: 3,415,123\n",
      "Trainable params: 3,415,123\n",
      "Non-trainable params: 0\n",
      "_________________________________________________________________\n"
     ]
    },
    {
     "data": {
      "text/plain": [
       "\"\\nmodel_input = Input(shape=(29,))\\nm = Dense(29, activation='relu')(model_input)\\nm = Dense(29, activation='sigmoid')(m)\\n\\nmodel = Model(model_input, m)\\n\""
      ]
     },
     "execution_count": 8,
     "metadata": {},
     "output_type": "execute_result"
    }
   ],
   "source": [
    "input = Input(shape=(400, 6))\n",
    "x = Conv1D(24, 3, padding='same', activation='relu', strides=1)(input)\n",
    "x = MaxPooling1D(4)(x)\n",
    "x = Conv1D(96, 3, padding='same', activation='relu', strides=1)(x)\n",
    "x = MaxPooling1D(4)(x)\n",
    "x = Flatten()(x)\n",
    "x = Dense(1200, activation='relu')(x)\n",
    "x = Dense(400, activation='relu')(x)\n",
    "x = Dense(100, activation='relu')(x)\n",
    "x = Dense(score_num, activation='sigmoid')(x)\n",
    "\n",
    "model = Model(input, x)\n",
    "\n",
    "model.compile(loss='binary_crossentropy',\n",
    "            optimizer='adam',\n",
    "            metrics=['accuracy'])\n",
    "\n",
    "model.summary()\n",
    "\n",
    "'''\n",
    "model_input = Input(shape=(29,))\n",
    "m = Dense(29, activation='relu')(model_input)\n",
    "m = Dense(29, activation='sigmoid')(m)\n",
    "\n",
    "model = Model(model_input, m)\n",
    "'''"
   ]
  },
  {
   "cell_type": "code",
   "execution_count": 9,
   "metadata": {},
   "outputs": [
    {
     "name": "stdout",
     "output_type": "stream",
     "text": [
      "Train on 100000 samples, validate on 10000 samples\n",
      "Epoch 1/2\n",
      "100000/100000 [==============================] - 95s - loss: 0.3708 - acc: 0.0000e+00 - val_loss: 0.3109 - val_acc: 0.0000e+00\n",
      "Epoch 2/2\n",
      "100000/100000 [==============================] - 87s - loss: 0.3101 - acc: 0.0000e+00 - val_loss: 0.3055 - val_acc: 0.0000e+00\n"
     ]
    },
    {
     "data": {
      "text/plain": [
       "<keras.callbacks.History at 0x1a802b4e400>"
      ]
     },
     "execution_count": 9,
     "metadata": {},
     "output_type": "execute_result"
    }
   ],
   "source": [
    "model.fit(x_train, y_train,\n",
    "          batch_size=128,\n",
    "          epochs=2,\n",
    "          shuffle=True,\n",
    "          validation_data=(x_test, y_test))"
   ]
  },
  {
   "cell_type": "code",
   "execution_count": 10,
   "metadata": {
    "collapsed": true
   },
   "outputs": [],
   "source": [
    "test_size = 1000\n",
    "\n",
    "test_data = np.zeros((test_size, 400, 6))\n",
    "test_answer = np.zeros((test_size, 59))\n",
    "for i in range(test_size):\n",
    "    test_data[i], test_answer[i] = Make_Data(random.randint(1, 3))\n",
    "predicted_answer = model.predict(test_data)"
   ]
  },
  {
   "cell_type": "code",
   "execution_count": 11,
   "metadata": {},
   "outputs": [
    {
     "name": "stdout",
     "output_type": "stream",
     "text": [
      "loss > 0.05: 1.1610169491525424%\n"
     ]
    }
   ],
   "source": [
    "#loss > 0.05: 0.15084745762711865%\n",
    "\n",
    "loss = predicted_answer - test_answer\n",
    "count = 0\n",
    "loss_per = 0.05\n",
    "for i in range(len(predicted_answer)):\n",
    "    for j in range(4):\n",
    "        if abs(loss[i][j]) > loss_per:\n",
    "            count += 1\n",
    "            \n",
    "print(\"loss > {}: {}%\".format(loss_per, count/(score_num * test_size / 100.)))"
   ]
  },
  {
   "cell_type": "code",
   "execution_count": 18,
   "metadata": {
    "collapsed": true
   },
   "outputs": [],
   "source": [
    "model.save(\"testing.h5\")"
   ]
  },
  {
   "cell_type": "code",
   "execution_count": 17,
   "metadata": {},
   "outputs": [
    {
     "name": "stdout",
     "output_type": "stream",
     "text": [
      "[ 0.99078697  0.95306039  0.48744848  0.00730802  0.00762497  0.75248188\n",
      "  0.05333087  0.74345732  0.99498391  0.99335152  0.07347013  0.05655822\n",
      "  0.68520951  0.0077087   0.83759242  0.052405    0.00900561  0.01856618\n",
      "  0.82244223  0.9648537   0.22487728  0.76232338  0.00922947  0.99111068\n",
      "  0.00587627  0.12781     0.00199939  0.98971117  0.98489642  0.04548799\n",
      "  0.0055445   0.60462338  0.01206977  0.05033058  0.00958253  0.00878851\n",
      "  0.19745263  0.00494834  0.00836048  0.00887305  0.21367298  0.07337587\n",
      "  0.00652741  0.15557565  0.00732388  0.33937517  0.97893584  0.00535921\n",
      "  0.67141515  0.07763053  0.9935416   0.95465618  0.17150356  0.0095522\n",
      "  0.00830466  0.00777938  0.99127543  0.17203955  0.97350997]\n"
     ]
    }
   ],
   "source": [
    "print(predicted_answer[590])"
   ]
  }
 ],
 "metadata": {
  "kernelspec": {
   "display_name": "Python 3",
   "language": "python",
   "name": "python3"
  },
  "language_info": {
   "codemirror_mode": {
    "name": "ipython",
    "version": 3
   },
   "file_extension": ".py",
   "mimetype": "text/x-python",
   "name": "python",
   "nbconvert_exporter": "python",
   "pygments_lexer": "ipython3",
   "version": "3.5.2"
  }
 },
 "nbformat": 4,
 "nbformat_minor": 2
}
